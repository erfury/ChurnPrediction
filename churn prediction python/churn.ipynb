{
  "nbformat": 4,
  "nbformat_minor": 0,
  "metadata": {
    "colab": {
      "name": "churn.ipynb",
      "provenance": [],
      "collapsed_sections": []
    },
    "kernelspec": {
      "name": "python3",
      "display_name": "Python 3"
    }
  },
  "cells": [
    {
      "cell_type": "code",
      "metadata": {
        "id": "_0RdowOz_foj"
      },
      "source": [
        "import pandas as pd\r\n",
        "import numpy as np\r\n",
        "import matplotlib.pyplot as plt\r\n",
        "%matplotlib inline\r\n",
        "import seaborn as sns\r\n",
        "#from sklearn.externals import joblib\r\n",
        "from sklearn.model_selection import train_test_split\r\n",
        "from sklearn import preprocessing\r\n",
        "from sklearn.neighbors import KNeighborsClassifier\r\n",
        "from sklearn.impute import SimpleImputer\r\n",
        "from sklearn.preprocessing import StandardScaler\r\n",
        "import pandas_profiling\r\n",
        "from collections import defaultdict\r\n",
        "from sklearn.model_selection import KFold,GridSearchCV\r\n",
        "from sklearn.tree import DecisionTreeClassifier\r\n",
        "from sklearn.linear_model import LogisticRegression\r\n",
        "from sklearn.metrics import accuracy_score,f1_score,recall_score,roc_curve,roc_auc_score,precision_score,classification_report,confusion_matrix\r\n",
        "from xgboost import XGBClassifier\r\n",
        "import warnings\r\n",
        "from sklearn.ensemble import RandomForestClassifier\r\n",
        "warnings.filterwarnings('ignore')\r\n",
        "from mlxtend.plotting import plot_learning_curves\r\n",
        "from sklearn.svm import SVC\r\n",
        "from sklearn.metrics import make_scorer"
      ],
      "execution_count": null,
      "outputs": []
    },
    {
      "cell_type": "code",
      "metadata": {
        "id": "oC9DIWhv3r46"
      },
      "source": [
        "# Code to read csv file into Colaboratory:\r\n",
        "!pip install -U -q PyDrive\r\n",
        "from pydrive.auth import GoogleAuth\r\n",
        "from pydrive.drive import GoogleDrive\r\n",
        "from google.colab import auth\r\n",
        "from oauth2client.client import GoogleCredentials\r\n",
        "# Authenticate and create the PyDrive client.\r\n",
        "auth.authenticate_user()\r\n",
        "gauth = GoogleAuth()\r\n",
        "gauth.credentials = GoogleCredentials.get_application_default()\r\n",
        "drive = GoogleDrive(gauth)"
      ],
      "execution_count": null,
      "outputs": []
    },
    {
      "cell_type": "code",
      "metadata": {
        "id": "bIwotJnc358Q"
      },
      "source": [
        "link= 'https://drive.google.com/file/d/1o6L-jF90wtqYt_TRhEA-5yGW6OKXOi-s/view?usp=sharing'"
      ],
      "execution_count": null,
      "outputs": []
    },
    {
      "cell_type": "code",
      "metadata": {
        "colab": {
          "base_uri": "https://localhost:8080/"
        },
        "id": "IZRdagJe5Hsi",
        "outputId": "e5ee8d60-06b8-48e8-843e-9b27452d42f4"
      },
      "source": [
        "id = '1o6L-jF90wtqYt_TRhEA-5yGW6OKXOi-s'\r\n",
        "print (id) # Verify that you have everything after '='"
      ],
      "execution_count": null,
      "outputs": [
        {
          "output_type": "stream",
          "text": [
            "1o6L-jF90wtqYt_TRhEA-5yGW6OKXOi-s\n"
          ],
          "name": "stdout"
        }
      ]
    },
    {
      "cell_type": "code",
      "metadata": {
        "id": "b6tw7f5k521Q"
      },
      "source": [
        "\r\n",
        "downloaded = drive.CreateFile({'id':id}) \r\n",
        "downloaded.GetContentFile('login.csv')  \r\n",
        "df1 = pd.read_csv('login.csv')\r\n",
        "# Dataset is now stored in a Pandas Dataframe\r\n",
        "df1.index.name = 'id'"
      ],
      "execution_count": null,
      "outputs": []
    },
    {
      "cell_type": "code",
      "metadata": {
        "colab": {
          "base_uri": "https://localhost:8080/",
          "height": 450
        },
        "id": "A4VXKqow6-Vx",
        "outputId": "0022d46c-87e1-4981-984f-a4076fb0d520"
      },
      "source": [
        "df1\r\n"
      ],
      "execution_count": null,
      "outputs": [
        {
          "output_type": "execute_result",
          "data": {
            "text/html": [
              "<div>\n",
              "<style scoped>\n",
              "    .dataframe tbody tr th:only-of-type {\n",
              "        vertical-align: middle;\n",
              "    }\n",
              "\n",
              "    .dataframe tbody tr th {\n",
              "        vertical-align: top;\n",
              "    }\n",
              "\n",
              "    .dataframe thead th {\n",
              "        text-align: right;\n",
              "    }\n",
              "</style>\n",
              "<table border=\"1\" class=\"dataframe\">\n",
              "  <thead>\n",
              "    <tr style=\"text-align: right;\">\n",
              "      <th></th>\n",
              "      <th>PARTY_ID</th>\n",
              "      <th>LAST_LOGIN</th>\n",
              "    </tr>\n",
              "    <tr>\n",
              "      <th>id</th>\n",
              "      <th></th>\n",
              "      <th></th>\n",
              "    </tr>\n",
              "  </thead>\n",
              "  <tbody>\n",
              "    <tr>\n",
              "      <th>0</th>\n",
              "      <td>233823836</td>\n",
              "      <td>31-01-2017 11:28</td>\n",
              "    </tr>\n",
              "    <tr>\n",
              "      <th>1</th>\n",
              "      <td>233823838</td>\n",
              "      <td>12-06-2017 11:22</td>\n",
              "    </tr>\n",
              "    <tr>\n",
              "      <th>2</th>\n",
              "      <td>233823838</td>\n",
              "      <td>14-06-2017 13:41</td>\n",
              "    </tr>\n",
              "    <tr>\n",
              "      <th>3</th>\n",
              "      <td>233823838</td>\n",
              "      <td>15-06-2017 08:31</td>\n",
              "    </tr>\n",
              "    <tr>\n",
              "      <th>4</th>\n",
              "      <td>233823838</td>\n",
              "      <td>22-06-2017 09:56</td>\n",
              "    </tr>\n",
              "    <tr>\n",
              "      <th>...</th>\n",
              "      <td>...</td>\n",
              "      <td>...</td>\n",
              "    </tr>\n",
              "    <tr>\n",
              "      <th>586176</th>\n",
              "      <td>685219705</td>\n",
              "      <td>21-10-2020 17:58</td>\n",
              "    </tr>\n",
              "    <tr>\n",
              "      <th>586177</th>\n",
              "      <td>685231467</td>\n",
              "      <td>22-10-2020 08:55</td>\n",
              "    </tr>\n",
              "    <tr>\n",
              "      <th>586178</th>\n",
              "      <td>685231471</td>\n",
              "      <td>22-10-2020 08:52</td>\n",
              "    </tr>\n",
              "    <tr>\n",
              "      <th>586179</th>\n",
              "      <td>685231473</td>\n",
              "      <td>22-10-2020 09:02</td>\n",
              "    </tr>\n",
              "    <tr>\n",
              "      <th>586180</th>\n",
              "      <td>685231476</td>\n",
              "      <td>22-10-2020 17:56</td>\n",
              "    </tr>\n",
              "  </tbody>\n",
              "</table>\n",
              "<p>586181 rows × 2 columns</p>\n",
              "</div>"
            ],
            "text/plain": [
              "         PARTY_ID        LAST_LOGIN\n",
              "id                                 \n",
              "0       233823836  31-01-2017 11:28\n",
              "1       233823838  12-06-2017 11:22\n",
              "2       233823838  14-06-2017 13:41\n",
              "3       233823838  15-06-2017 08:31\n",
              "4       233823838  22-06-2017 09:56\n",
              "...           ...               ...\n",
              "586176  685219705  21-10-2020 17:58\n",
              "586177  685231467  22-10-2020 08:55\n",
              "586178  685231471  22-10-2020 08:52\n",
              "586179  685231473  22-10-2020 09:02\n",
              "586180  685231476  22-10-2020 17:56\n",
              "\n",
              "[586181 rows x 2 columns]"
            ]
          },
          "metadata": {
            "tags": []
          },
          "execution_count": 6
        }
      ]
    },
    {
      "cell_type": "code",
      "metadata": {
        "colab": {
          "base_uri": "https://localhost:8080/"
        },
        "id": "z1V1juy97CHv",
        "outputId": "3f2388db-9998-4ab0-8829-88cbb84da436"
      },
      "source": [
        "df1.shape\r\n"
      ],
      "execution_count": null,
      "outputs": [
        {
          "output_type": "execute_result",
          "data": {
            "text/plain": [
              "(586181, 2)"
            ]
          },
          "metadata": {
            "tags": []
          },
          "execution_count": 7
        }
      ]
    },
    {
      "cell_type": "code",
      "metadata": {
        "colab": {
          "base_uri": "https://localhost:8080/"
        },
        "id": "sFadaGybtKPI",
        "outputId": "5d34b868-eef8-4c80-8e04-46bd1ba572b3"
      },
      "source": [
        "df1.describe"
      ],
      "execution_count": null,
      "outputs": [
        {
          "output_type": "execute_result",
          "data": {
            "text/plain": [
              "<bound method NDFrame.describe of          PARTY_ID        LAST_LOGIN\n",
              "id                                 \n",
              "0       233823836  31-01-2017 11:28\n",
              "1       233823838  12-06-2017 11:22\n",
              "2       233823838  14-06-2017 13:41\n",
              "3       233823838  15-06-2017 08:31\n",
              "4       233823838  22-06-2017 09:56\n",
              "...           ...               ...\n",
              "586176  685219705  21-10-2020 17:58\n",
              "586177  685231467  22-10-2020 08:55\n",
              "586178  685231471  22-10-2020 08:52\n",
              "586179  685231473  22-10-2020 09:02\n",
              "586180  685231476  22-10-2020 17:56\n",
              "\n",
              "[586181 rows x 2 columns]>"
            ]
          },
          "metadata": {
            "tags": []
          },
          "execution_count": 8
        }
      ]
    },
    {
      "cell_type": "code",
      "metadata": {
        "colab": {
          "base_uri": "https://localhost:8080/"
        },
        "id": "j12Q97Y5_Phg",
        "outputId": "db74be1a-ca50-47be-de6f-776b3ab3cd1f"
      },
      "source": [
        "df1.columns.values"
      ],
      "execution_count": null,
      "outputs": [
        {
          "output_type": "execute_result",
          "data": {
            "text/plain": [
              "array(['PARTY_ID', 'LAST_LOGIN'], dtype=object)"
            ]
          },
          "metadata": {
            "tags": []
          },
          "execution_count": 212
        }
      ]
    },
    {
      "cell_type": "code",
      "metadata": {
        "colab": {
          "base_uri": "https://localhost:8080/"
        },
        "id": "Fvxi2KuBFohK",
        "outputId": "230d4ca1-9530-4120-d8f8-2b97c48c4a1f"
      },
      "source": [
        "#Check for na or missing data\r\n",
        "df1.isna().sum()"
      ],
      "execution_count": null,
      "outputs": [
        {
          "output_type": "execute_result",
          "data": {
            "text/plain": [
              "PARTY_ID      0\n",
              "LAST_LOGIN    0\n",
              "dtype: int64"
            ]
          },
          "metadata": {
            "tags": []
          },
          "execution_count": 213
        }
      ]
    },
    {
      "cell_type": "code",
      "metadata": {
        "colab": {
          "base_uri": "https://localhost:8080/",
          "height": 297
        },
        "id": "hCkwnTehFt6k",
        "outputId": "d05aa8a5-431f-4541-883f-84e179cdfc82"
      },
      "source": [
        "#Show statistics on the current data \r\n",
        "df1.describe()"
      ],
      "execution_count": null,
      "outputs": [
        {
          "output_type": "execute_result",
          "data": {
            "text/html": [
              "<div>\n",
              "<style scoped>\n",
              "    .dataframe tbody tr th:only-of-type {\n",
              "        vertical-align: middle;\n",
              "    }\n",
              "\n",
              "    .dataframe tbody tr th {\n",
              "        vertical-align: top;\n",
              "    }\n",
              "\n",
              "    .dataframe thead th {\n",
              "        text-align: right;\n",
              "    }\n",
              "</style>\n",
              "<table border=\"1\" class=\"dataframe\">\n",
              "  <thead>\n",
              "    <tr style=\"text-align: right;\">\n",
              "      <th></th>\n",
              "      <th>PARTY_ID</th>\n",
              "    </tr>\n",
              "  </thead>\n",
              "  <tbody>\n",
              "    <tr>\n",
              "      <th>count</th>\n",
              "      <td>5.861810e+05</td>\n",
              "    </tr>\n",
              "    <tr>\n",
              "      <th>mean</th>\n",
              "      <td>3.679227e+08</td>\n",
              "    </tr>\n",
              "    <tr>\n",
              "      <th>std</th>\n",
              "      <td>1.027437e+08</td>\n",
              "    </tr>\n",
              "    <tr>\n",
              "      <th>min</th>\n",
              "      <td>2.338238e+08</td>\n",
              "    </tr>\n",
              "    <tr>\n",
              "      <th>25%</th>\n",
              "      <td>2.574514e+08</td>\n",
              "    </tr>\n",
              "    <tr>\n",
              "      <th>50%</th>\n",
              "      <td>3.563548e+08</td>\n",
              "    </tr>\n",
              "    <tr>\n",
              "      <th>75%</th>\n",
              "      <td>4.283442e+08</td>\n",
              "    </tr>\n",
              "    <tr>\n",
              "      <th>max</th>\n",
              "      <td>6.852315e+08</td>\n",
              "    </tr>\n",
              "  </tbody>\n",
              "</table>\n",
              "</div>"
            ],
            "text/plain": [
              "           PARTY_ID\n",
              "count  5.861810e+05\n",
              "mean   3.679227e+08\n",
              "std    1.027437e+08\n",
              "min    2.338238e+08\n",
              "25%    2.574514e+08\n",
              "50%    3.563548e+08\n",
              "75%    4.283442e+08\n",
              "max    6.852315e+08"
            ]
          },
          "metadata": {
            "tags": []
          },
          "execution_count": 214
        }
      ]
    },
    {
      "cell_type": "code",
      "metadata": {
        "colab": {
          "base_uri": "https://localhost:8080/"
        },
        "id": "Y82y4qnRtbSx",
        "outputId": "3652df0c-6614-4906-c09d-a81f0baf19b9"
      },
      "source": [
        "df1.dtypes"
      ],
      "execution_count": null,
      "outputs": [
        {
          "output_type": "execute_result",
          "data": {
            "text/plain": [
              "PARTY_ID       int64\n",
              "LAST_LOGIN    object\n",
              "dtype: object"
            ]
          },
          "metadata": {
            "tags": []
          },
          "execution_count": 9
        }
      ]
    },
    {
      "cell_type": "code",
      "metadata": {
        "colab": {
          "base_uri": "https://localhost:8080/"
        },
        "id": "xUmc4ClAF2Ek",
        "outputId": "573c09ad-6ed3-4065-f5b6-0d41bc71fd8a"
      },
      "source": [
        "#counting the frequencies of a party_id\r\n",
        "#arr= df1.PARTY_ID.unique()\r\n",
        "df1.PARTY_ID.value_counts()"
      ],
      "execution_count": null,
      "outputs": [
        {
          "output_type": "execute_result",
          "data": {
            "text/plain": [
              "233824637    1193\n",
              "233823853     896\n",
              "233824108     847\n",
              "233832694     841\n",
              "233824342     836\n",
              "             ... \n",
              "398958599       1\n",
              "411652059       1\n",
              "488337311       1\n",
              "233824009       1\n",
              "464549903       1\n",
              "Name: PARTY_ID, Length: 25744, dtype: int64"
            ]
          },
          "metadata": {
            "tags": []
          },
          "execution_count": 215
        }
      ]
    },
    {
      "cell_type": "code",
      "metadata": {
        "id": "QOaGO71pjZte"
      },
      "source": [
        "#counting the number of logins of each member\r\n",
        "df1['Counts'] = df1.groupby(['PARTY_ID'])['LAST_LOGIN'].transform('count')"
      ],
      "execution_count": null,
      "outputs": []
    },
    {
      "cell_type": "code",
      "metadata": {
        "colab": {
          "base_uri": "https://localhost:8080/",
          "height": 1000
        },
        "id": "IvK7GNkhjqwy",
        "outputId": "676ad5c2-6289-4f83-e37d-2910515a95f1"
      },
      "source": [
        "df1.head(50)"
      ],
      "execution_count": null,
      "outputs": [
        {
          "output_type": "execute_result",
          "data": {
            "text/html": [
              "<div>\n",
              "<style scoped>\n",
              "    .dataframe tbody tr th:only-of-type {\n",
              "        vertical-align: middle;\n",
              "    }\n",
              "\n",
              "    .dataframe tbody tr th {\n",
              "        vertical-align: top;\n",
              "    }\n",
              "\n",
              "    .dataframe thead th {\n",
              "        text-align: right;\n",
              "    }\n",
              "</style>\n",
              "<table border=\"1\" class=\"dataframe\">\n",
              "  <thead>\n",
              "    <tr style=\"text-align: right;\">\n",
              "      <th></th>\n",
              "      <th>PARTY_ID</th>\n",
              "      <th>LAST_LOGIN</th>\n",
              "      <th>Counts</th>\n",
              "    </tr>\n",
              "    <tr>\n",
              "      <th>id</th>\n",
              "      <th></th>\n",
              "      <th></th>\n",
              "      <th></th>\n",
              "    </tr>\n",
              "  </thead>\n",
              "  <tbody>\n",
              "    <tr>\n",
              "      <th>0</th>\n",
              "      <td>233823836</td>\n",
              "      <td>31-01-2017 11:28</td>\n",
              "      <td>1</td>\n",
              "    </tr>\n",
              "    <tr>\n",
              "      <th>1</th>\n",
              "      <td>233823838</td>\n",
              "      <td>12-06-2017 11:22</td>\n",
              "      <td>17</td>\n",
              "    </tr>\n",
              "    <tr>\n",
              "      <th>2</th>\n",
              "      <td>233823838</td>\n",
              "      <td>14-06-2017 13:41</td>\n",
              "      <td>17</td>\n",
              "    </tr>\n",
              "    <tr>\n",
              "      <th>3</th>\n",
              "      <td>233823838</td>\n",
              "      <td>15-06-2017 08:31</td>\n",
              "      <td>17</td>\n",
              "    </tr>\n",
              "    <tr>\n",
              "      <th>4</th>\n",
              "      <td>233823838</td>\n",
              "      <td>22-06-2017 09:56</td>\n",
              "      <td>17</td>\n",
              "    </tr>\n",
              "    <tr>\n",
              "      <th>5</th>\n",
              "      <td>233823838</td>\n",
              "      <td>26-06-2017 11:43</td>\n",
              "      <td>17</td>\n",
              "    </tr>\n",
              "    <tr>\n",
              "      <th>6</th>\n",
              "      <td>233823838</td>\n",
              "      <td>27-06-2017 08:35</td>\n",
              "      <td>17</td>\n",
              "    </tr>\n",
              "    <tr>\n",
              "      <th>7</th>\n",
              "      <td>233823838</td>\n",
              "      <td>29-06-2017 19:41</td>\n",
              "      <td>17</td>\n",
              "    </tr>\n",
              "    <tr>\n",
              "      <th>8</th>\n",
              "      <td>233823838</td>\n",
              "      <td>03-07-2017 09:20</td>\n",
              "      <td>17</td>\n",
              "    </tr>\n",
              "    <tr>\n",
              "      <th>9</th>\n",
              "      <td>233823838</td>\n",
              "      <td>11-07-2017 13:09</td>\n",
              "      <td>17</td>\n",
              "    </tr>\n",
              "    <tr>\n",
              "      <th>10</th>\n",
              "      <td>233823838</td>\n",
              "      <td>20-07-2017 15:37</td>\n",
              "      <td>17</td>\n",
              "    </tr>\n",
              "    <tr>\n",
              "      <th>11</th>\n",
              "      <td>233823838</td>\n",
              "      <td>15-08-2017 08:11</td>\n",
              "      <td>17</td>\n",
              "    </tr>\n",
              "    <tr>\n",
              "      <th>12</th>\n",
              "      <td>233823838</td>\n",
              "      <td>13-09-2017 05:22</td>\n",
              "      <td>17</td>\n",
              "    </tr>\n",
              "    <tr>\n",
              "      <th>13</th>\n",
              "      <td>233823838</td>\n",
              "      <td>18-09-2017 06:01</td>\n",
              "      <td>17</td>\n",
              "    </tr>\n",
              "    <tr>\n",
              "      <th>14</th>\n",
              "      <td>233823838</td>\n",
              "      <td>26-09-2017 11:15</td>\n",
              "      <td>17</td>\n",
              "    </tr>\n",
              "    <tr>\n",
              "      <th>15</th>\n",
              "      <td>233823838</td>\n",
              "      <td>16-10-2017 15:51</td>\n",
              "      <td>17</td>\n",
              "    </tr>\n",
              "    <tr>\n",
              "      <th>16</th>\n",
              "      <td>233823838</td>\n",
              "      <td>19-10-2017 08:35</td>\n",
              "      <td>17</td>\n",
              "    </tr>\n",
              "    <tr>\n",
              "      <th>17</th>\n",
              "      <td>233823838</td>\n",
              "      <td>17-11-2017 18:19</td>\n",
              "      <td>17</td>\n",
              "    </tr>\n",
              "    <tr>\n",
              "      <th>18</th>\n",
              "      <td>233823840</td>\n",
              "      <td>23-02-2017 19:07</td>\n",
              "      <td>318</td>\n",
              "    </tr>\n",
              "    <tr>\n",
              "      <th>19</th>\n",
              "      <td>233823840</td>\n",
              "      <td>16-10-2017 16:14</td>\n",
              "      <td>318</td>\n",
              "    </tr>\n",
              "    <tr>\n",
              "      <th>20</th>\n",
              "      <td>233823840</td>\n",
              "      <td>02-11-2017 17:52</td>\n",
              "      <td>318</td>\n",
              "    </tr>\n",
              "    <tr>\n",
              "      <th>21</th>\n",
              "      <td>233823840</td>\n",
              "      <td>07-11-2017 10:14</td>\n",
              "      <td>318</td>\n",
              "    </tr>\n",
              "    <tr>\n",
              "      <th>22</th>\n",
              "      <td>233823840</td>\n",
              "      <td>08-11-2017 19:39</td>\n",
              "      <td>318</td>\n",
              "    </tr>\n",
              "    <tr>\n",
              "      <th>23</th>\n",
              "      <td>233823840</td>\n",
              "      <td>10-11-2017 15:37</td>\n",
              "      <td>318</td>\n",
              "    </tr>\n",
              "    <tr>\n",
              "      <th>24</th>\n",
              "      <td>233823840</td>\n",
              "      <td>14-11-2017 08:05</td>\n",
              "      <td>318</td>\n",
              "    </tr>\n",
              "    <tr>\n",
              "      <th>25</th>\n",
              "      <td>233823840</td>\n",
              "      <td>15-11-2017 10:37</td>\n",
              "      <td>318</td>\n",
              "    </tr>\n",
              "    <tr>\n",
              "      <th>26</th>\n",
              "      <td>233823840</td>\n",
              "      <td>16-11-2017 10:18</td>\n",
              "      <td>318</td>\n",
              "    </tr>\n",
              "    <tr>\n",
              "      <th>27</th>\n",
              "      <td>233823840</td>\n",
              "      <td>19-11-2017 21:16</td>\n",
              "      <td>318</td>\n",
              "    </tr>\n",
              "    <tr>\n",
              "      <th>28</th>\n",
              "      <td>233823840</td>\n",
              "      <td>21-11-2017 20:15</td>\n",
              "      <td>318</td>\n",
              "    </tr>\n",
              "    <tr>\n",
              "      <th>29</th>\n",
              "      <td>233823840</td>\n",
              "      <td>28-11-2017 12:57</td>\n",
              "      <td>318</td>\n",
              "    </tr>\n",
              "    <tr>\n",
              "      <th>30</th>\n",
              "      <td>233823840</td>\n",
              "      <td>29-11-2017 20:51</td>\n",
              "      <td>318</td>\n",
              "    </tr>\n",
              "    <tr>\n",
              "      <th>31</th>\n",
              "      <td>233823840</td>\n",
              "      <td>30-11-2017 14:30</td>\n",
              "      <td>318</td>\n",
              "    </tr>\n",
              "    <tr>\n",
              "      <th>32</th>\n",
              "      <td>233823840</td>\n",
              "      <td>01-12-2017 13:41</td>\n",
              "      <td>318</td>\n",
              "    </tr>\n",
              "    <tr>\n",
              "      <th>33</th>\n",
              "      <td>233823840</td>\n",
              "      <td>09-12-2017 12:08</td>\n",
              "      <td>318</td>\n",
              "    </tr>\n",
              "    <tr>\n",
              "      <th>34</th>\n",
              "      <td>233823840</td>\n",
              "      <td>14-12-2017 09:07</td>\n",
              "      <td>318</td>\n",
              "    </tr>\n",
              "    <tr>\n",
              "      <th>35</th>\n",
              "      <td>233823840</td>\n",
              "      <td>19-12-2017 18:30</td>\n",
              "      <td>318</td>\n",
              "    </tr>\n",
              "    <tr>\n",
              "      <th>36</th>\n",
              "      <td>233823840</td>\n",
              "      <td>20-12-2017 09:23</td>\n",
              "      <td>318</td>\n",
              "    </tr>\n",
              "    <tr>\n",
              "      <th>37</th>\n",
              "      <td>233823840</td>\n",
              "      <td>22-12-2017 16:49</td>\n",
              "      <td>318</td>\n",
              "    </tr>\n",
              "    <tr>\n",
              "      <th>38</th>\n",
              "      <td>233823840</td>\n",
              "      <td>08-01-2018 20:08</td>\n",
              "      <td>318</td>\n",
              "    </tr>\n",
              "    <tr>\n",
              "      <th>39</th>\n",
              "      <td>233823840</td>\n",
              "      <td>10-01-2018 12:24</td>\n",
              "      <td>318</td>\n",
              "    </tr>\n",
              "    <tr>\n",
              "      <th>40</th>\n",
              "      <td>233823840</td>\n",
              "      <td>14-01-2018 19:52</td>\n",
              "      <td>318</td>\n",
              "    </tr>\n",
              "    <tr>\n",
              "      <th>41</th>\n",
              "      <td>233823840</td>\n",
              "      <td>02-02-2018 10:42</td>\n",
              "      <td>318</td>\n",
              "    </tr>\n",
              "    <tr>\n",
              "      <th>42</th>\n",
              "      <td>233823840</td>\n",
              "      <td>15-02-2018 16:44</td>\n",
              "      <td>318</td>\n",
              "    </tr>\n",
              "    <tr>\n",
              "      <th>43</th>\n",
              "      <td>233823840</td>\n",
              "      <td>02-03-2018 11:24</td>\n",
              "      <td>318</td>\n",
              "    </tr>\n",
              "    <tr>\n",
              "      <th>44</th>\n",
              "      <td>233823840</td>\n",
              "      <td>02-03-2018 16:19</td>\n",
              "      <td>318</td>\n",
              "    </tr>\n",
              "    <tr>\n",
              "      <th>45</th>\n",
              "      <td>233823840</td>\n",
              "      <td>13-03-2018 20:26</td>\n",
              "      <td>318</td>\n",
              "    </tr>\n",
              "    <tr>\n",
              "      <th>46</th>\n",
              "      <td>233823840</td>\n",
              "      <td>16-03-2018 07:59</td>\n",
              "      <td>318</td>\n",
              "    </tr>\n",
              "    <tr>\n",
              "      <th>47</th>\n",
              "      <td>233823840</td>\n",
              "      <td>19-03-2018 16:48</td>\n",
              "      <td>318</td>\n",
              "    </tr>\n",
              "    <tr>\n",
              "      <th>48</th>\n",
              "      <td>233823840</td>\n",
              "      <td>26-03-2018 19:39</td>\n",
              "      <td>318</td>\n",
              "    </tr>\n",
              "    <tr>\n",
              "      <th>49</th>\n",
              "      <td>233823840</td>\n",
              "      <td>05-04-2018 07:11</td>\n",
              "      <td>318</td>\n",
              "    </tr>\n",
              "  </tbody>\n",
              "</table>\n",
              "</div>"
            ],
            "text/plain": [
              "     PARTY_ID        LAST_LOGIN  Counts\n",
              "id                                     \n",
              "0   233823836  31-01-2017 11:28       1\n",
              "1   233823838  12-06-2017 11:22      17\n",
              "2   233823838  14-06-2017 13:41      17\n",
              "3   233823838  15-06-2017 08:31      17\n",
              "4   233823838  22-06-2017 09:56      17\n",
              "5   233823838  26-06-2017 11:43      17\n",
              "6   233823838  27-06-2017 08:35      17\n",
              "7   233823838  29-06-2017 19:41      17\n",
              "8   233823838  03-07-2017 09:20      17\n",
              "9   233823838  11-07-2017 13:09      17\n",
              "10  233823838  20-07-2017 15:37      17\n",
              "11  233823838  15-08-2017 08:11      17\n",
              "12  233823838  13-09-2017 05:22      17\n",
              "13  233823838  18-09-2017 06:01      17\n",
              "14  233823838  26-09-2017 11:15      17\n",
              "15  233823838  16-10-2017 15:51      17\n",
              "16  233823838  19-10-2017 08:35      17\n",
              "17  233823838  17-11-2017 18:19      17\n",
              "18  233823840  23-02-2017 19:07     318\n",
              "19  233823840  16-10-2017 16:14     318\n",
              "20  233823840  02-11-2017 17:52     318\n",
              "21  233823840  07-11-2017 10:14     318\n",
              "22  233823840  08-11-2017 19:39     318\n",
              "23  233823840  10-11-2017 15:37     318\n",
              "24  233823840  14-11-2017 08:05     318\n",
              "25  233823840  15-11-2017 10:37     318\n",
              "26  233823840  16-11-2017 10:18     318\n",
              "27  233823840  19-11-2017 21:16     318\n",
              "28  233823840  21-11-2017 20:15     318\n",
              "29  233823840  28-11-2017 12:57     318\n",
              "30  233823840  29-11-2017 20:51     318\n",
              "31  233823840  30-11-2017 14:30     318\n",
              "32  233823840  01-12-2017 13:41     318\n",
              "33  233823840  09-12-2017 12:08     318\n",
              "34  233823840  14-12-2017 09:07     318\n",
              "35  233823840  19-12-2017 18:30     318\n",
              "36  233823840  20-12-2017 09:23     318\n",
              "37  233823840  22-12-2017 16:49     318\n",
              "38  233823840  08-01-2018 20:08     318\n",
              "39  233823840  10-01-2018 12:24     318\n",
              "40  233823840  14-01-2018 19:52     318\n",
              "41  233823840  02-02-2018 10:42     318\n",
              "42  233823840  15-02-2018 16:44     318\n",
              "43  233823840  02-03-2018 11:24     318\n",
              "44  233823840  02-03-2018 16:19     318\n",
              "45  233823840  13-03-2018 20:26     318\n",
              "46  233823840  16-03-2018 07:59     318\n",
              "47  233823840  19-03-2018 16:48     318\n",
              "48  233823840  26-03-2018 19:39     318\n",
              "49  233823840  05-04-2018 07:11     318"
            ]
          },
          "metadata": {
            "tags": []
          },
          "execution_count": 217
        }
      ]
    },
    {
      "cell_type": "code",
      "metadata": {
        "colab": {
          "base_uri": "https://localhost:8080/",
          "height": 297
        },
        "id": "uGTjYLM1ASAB",
        "outputId": "44ccd5bd-3133-4a3f-e2b7-dd9f6749232f"
      },
      "source": [
        "df1.describe()"
      ],
      "execution_count": null,
      "outputs": [
        {
          "output_type": "execute_result",
          "data": {
            "text/html": [
              "<div>\n",
              "<style scoped>\n",
              "    .dataframe tbody tr th:only-of-type {\n",
              "        vertical-align: middle;\n",
              "    }\n",
              "\n",
              "    .dataframe tbody tr th {\n",
              "        vertical-align: top;\n",
              "    }\n",
              "\n",
              "    .dataframe thead th {\n",
              "        text-align: right;\n",
              "    }\n",
              "</style>\n",
              "<table border=\"1\" class=\"dataframe\">\n",
              "  <thead>\n",
              "    <tr style=\"text-align: right;\">\n",
              "      <th></th>\n",
              "      <th>PARTY_ID</th>\n",
              "      <th>Counts</th>\n",
              "    </tr>\n",
              "  </thead>\n",
              "  <tbody>\n",
              "    <tr>\n",
              "      <th>count</th>\n",
              "      <td>5.861810e+05</td>\n",
              "      <td>586181.000000</td>\n",
              "    </tr>\n",
              "    <tr>\n",
              "      <th>mean</th>\n",
              "      <td>3.679227e+08</td>\n",
              "      <td>209.756906</td>\n",
              "    </tr>\n",
              "    <tr>\n",
              "      <th>std</th>\n",
              "      <td>1.027437e+08</td>\n",
              "      <td>199.504394</td>\n",
              "    </tr>\n",
              "    <tr>\n",
              "      <th>min</th>\n",
              "      <td>2.338238e+08</td>\n",
              "      <td>1.000000</td>\n",
              "    </tr>\n",
              "    <tr>\n",
              "      <th>25%</th>\n",
              "      <td>2.574514e+08</td>\n",
              "      <td>45.000000</td>\n",
              "    </tr>\n",
              "    <tr>\n",
              "      <th>50%</th>\n",
              "      <td>3.563548e+08</td>\n",
              "      <td>150.000000</td>\n",
              "    </tr>\n",
              "    <tr>\n",
              "      <th>75%</th>\n",
              "      <td>4.283442e+08</td>\n",
              "      <td>325.000000</td>\n",
              "    </tr>\n",
              "    <tr>\n",
              "      <th>max</th>\n",
              "      <td>6.852315e+08</td>\n",
              "      <td>1193.000000</td>\n",
              "    </tr>\n",
              "  </tbody>\n",
              "</table>\n",
              "</div>"
            ],
            "text/plain": [
              "           PARTY_ID         Counts\n",
              "count  5.861810e+05  586181.000000\n",
              "mean   3.679227e+08     209.756906\n",
              "std    1.027437e+08     199.504394\n",
              "min    2.338238e+08       1.000000\n",
              "25%    2.574514e+08      45.000000\n",
              "50%    3.563548e+08     150.000000\n",
              "75%    4.283442e+08     325.000000\n",
              "max    6.852315e+08    1193.000000"
            ]
          },
          "metadata": {
            "tags": []
          },
          "execution_count": 218
        }
      ]
    },
    {
      "cell_type": "code",
      "metadata": {
        "id": "v-uVZIGLkPhK",
        "colab": {
          "base_uri": "https://localhost:8080/",
          "height": 235
        },
        "outputId": "a6629408-e80a-41dc-bc15-4665b57c10d4"
      },
      "source": [
        "# 0 for who can churn & 1 for who can stay\r\n",
        "def find_cus(df1):\r\n",
        "    if df1['Counts'] > 23:\r\n",
        "        return 1\r\n",
        "    else:\r\n",
        "        return 0\r\n",
        "df1['churn'] = df1.apply(find_cus,axis=1)\r\n",
        "df1.head()\r\n"
      ],
      "execution_count": null,
      "outputs": [
        {
          "output_type": "execute_result",
          "data": {
            "text/html": [
              "<div>\n",
              "<style scoped>\n",
              "    .dataframe tbody tr th:only-of-type {\n",
              "        vertical-align: middle;\n",
              "    }\n",
              "\n",
              "    .dataframe tbody tr th {\n",
              "        vertical-align: top;\n",
              "    }\n",
              "\n",
              "    .dataframe thead th {\n",
              "        text-align: right;\n",
              "    }\n",
              "</style>\n",
              "<table border=\"1\" class=\"dataframe\">\n",
              "  <thead>\n",
              "    <tr style=\"text-align: right;\">\n",
              "      <th></th>\n",
              "      <th>PARTY_ID</th>\n",
              "      <th>LAST_LOGIN</th>\n",
              "      <th>Counts</th>\n",
              "      <th>churn</th>\n",
              "    </tr>\n",
              "    <tr>\n",
              "      <th>id</th>\n",
              "      <th></th>\n",
              "      <th></th>\n",
              "      <th></th>\n",
              "      <th></th>\n",
              "    </tr>\n",
              "  </thead>\n",
              "  <tbody>\n",
              "    <tr>\n",
              "      <th>0</th>\n",
              "      <td>233823836</td>\n",
              "      <td>31-01-2017 11:28</td>\n",
              "      <td>1</td>\n",
              "      <td>0</td>\n",
              "    </tr>\n",
              "    <tr>\n",
              "      <th>1</th>\n",
              "      <td>233823838</td>\n",
              "      <td>12-06-2017 11:22</td>\n",
              "      <td>17</td>\n",
              "      <td>0</td>\n",
              "    </tr>\n",
              "    <tr>\n",
              "      <th>2</th>\n",
              "      <td>233823838</td>\n",
              "      <td>14-06-2017 13:41</td>\n",
              "      <td>17</td>\n",
              "      <td>0</td>\n",
              "    </tr>\n",
              "    <tr>\n",
              "      <th>3</th>\n",
              "      <td>233823838</td>\n",
              "      <td>15-06-2017 08:31</td>\n",
              "      <td>17</td>\n",
              "      <td>0</td>\n",
              "    </tr>\n",
              "    <tr>\n",
              "      <th>4</th>\n",
              "      <td>233823838</td>\n",
              "      <td>22-06-2017 09:56</td>\n",
              "      <td>17</td>\n",
              "      <td>0</td>\n",
              "    </tr>\n",
              "  </tbody>\n",
              "</table>\n",
              "</div>"
            ],
            "text/plain": [
              "     PARTY_ID        LAST_LOGIN  Counts  churn\n",
              "id                                            \n",
              "0   233823836  31-01-2017 11:28       1      0\n",
              "1   233823838  12-06-2017 11:22      17      0\n",
              "2   233823838  14-06-2017 13:41      17      0\n",
              "3   233823838  15-06-2017 08:31      17      0\n",
              "4   233823838  22-06-2017 09:56      17      0"
            ]
          },
          "metadata": {
            "tags": []
          },
          "execution_count": 219
        }
      ]
    },
    {
      "cell_type": "code",
      "metadata": {
        "id": "_UygShfHOLD8"
      },
      "source": [
        "#dfn = df1"
      ],
      "execution_count": null,
      "outputs": []
    },
    {
      "cell_type": "code",
      "metadata": {
        "id": "VJaXq_DkGri9"
      },
      "source": [
        "dfn=df1.drop_duplicates(subset=['PARTY_ID'])"
      ],
      "execution_count": null,
      "outputs": []
    },
    {
      "cell_type": "code",
      "metadata": {
        "colab": {
          "base_uri": "https://localhost:8080/",
          "height": 296
        },
        "id": "8QmgOHR0JOsL",
        "outputId": "08fd14aa-0c05-47da-d68b-909c2372dfff"
      },
      "source": [
        "sns.countplot(dfn['churn'])"
      ],
      "execution_count": null,
      "outputs": [
        {
          "output_type": "execute_result",
          "data": {
            "text/plain": [
              "<matplotlib.axes._subplots.AxesSubplot at 0x7faabac8c8d0>"
            ]
          },
          "metadata": {
            "tags": []
          },
          "execution_count": 222
        },
        {
          "output_type": "display_data",
          "data": {
            "image/png": "[encoded data removed]",
            "text/plain": [
              "<Figure size 432x288 with 1 Axes>"
            ]
          },
          "metadata": {
            "tags": [],
            "needs_background": "light"
          }
        }
      ]
    },
    {
      "cell_type": "code",
      "metadata": {
        "colab": {
          "base_uri": "https://localhost:8080/"
        },
        "id": "P72ZxQ6RkPWo",
        "outputId": "fe69b1cd-77d8-4dfb-90ed-7ee384a71a1a"
      },
      "source": [
        "dfn['churn'].describe()"
      ],
      "execution_count": null,
      "outputs": [
        {
          "output_type": "execute_result",
          "data": {
            "text/plain": [
              "count    25744.000000\n",
              "mean         0.160814\n",
              "std          0.367367\n",
              "min          0.000000\n",
              "25%          0.000000\n",
              "50%          0.000000\n",
              "75%          0.000000\n",
              "max          1.000000\n",
              "Name: churn, dtype: float64"
            ]
          },
          "metadata": {
            "tags": []
          },
          "execution_count": 223
        }
      ]
    },
    {
      "cell_type": "code",
      "metadata": {
        "colab": {
          "base_uri": "https://localhost:8080/"
        },
        "id": "PgzNm8T95ALm",
        "outputId": "6c499054-232d-4d2c-b904-b235474e0a99"
      },
      "source": [
        "#counting the number of 1&0 in churn column\r\n",
        "dfn.churn.value_counts()"
      ],
      "execution_count": null,
      "outputs": [
        {
          "output_type": "execute_result",
          "data": {
            "text/plain": [
              "0    21604\n",
              "1     4140\n",
              "Name: churn, dtype: int64"
            ]
          },
          "metadata": {
            "tags": []
          },
          "execution_count": 224
        }
      ]
    },
    {
      "cell_type": "code",
      "metadata": {
        "id": "FXr7V3jZg73C"
      },
      "source": [
        "X=df1.copy().drop(columns=['churn','LAST_LOGIN'],axis=1)\r\n",
        "Y=df1['churn']    \r\n",
        "X_train,X_validation,y_train,y_validation=train_test_split(X,Y,test_size=0.3,random_state=101)"
      ],
      "execution_count": null,
      "outputs": []
    },
    {
      "cell_type": "code",
      "metadata": {
        "id": "mlTKqd_bg7z5",
        "colab": {
          "base_uri": "https://localhost:8080/"
        },
        "outputId": "367363d8-6e1e-4ba8-ff47-670db750a247"
      },
      "source": [
        "print(X_train.shape)\r\n",
        "print(X_validation.shape)"
      ],
      "execution_count": null,
      "outputs": [
        {
          "output_type": "stream",
          "text": [
            "(410326, 2)\n",
            "(175855, 2)\n"
          ],
          "name": "stdout"
        }
      ]
    },
    {
      "cell_type": "code",
      "metadata": {
        "id": "LAlA-Kla7B3D"
      },
      "source": [
        ""
      ],
      "execution_count": null,
      "outputs": []
    },
    {
      "cell_type": "code",
      "metadata": {
        "id": "S7-AZTwug7vG",
        "colab": {
          "base_uri": "https://localhost:8080/",
          "height": 977
        },
        "outputId": "c5809a8c-1151-4d12-a599-fbe38d7e6afa"
      },
      "source": [
        "lnr = LogisticRegression()\r\n",
        "lnr.fit(X_train,y_train)\r\n",
        "pred_train = lnr.predict(X_train)\r\n",
        "pred_val = lnr.predict(X_validation)\r\n",
        "#pred_test=lnr.predict(test_data)\r\n",
        "#print(pred_test)\r\n",
        "#train_f1=f1_score(y_train,pred_train)\r\n",
        "#val_f1=f1_score(y_validation,pred_val)\r\n",
        "#val_recall=recall_score(y_validation,pred_val)\r\n",
        "#train_recall=recall_score(y_train,pred_train)\r\n",
        "#acc=accuracy_score(y_validation,pred_val)\r\n",
        "print(classification_report(y_validation,pred_val))\r\n",
        "#print(\"Accuracy :\",acc)\r\n",
        "#df=pd.DataFrame({'ActualTrain': y_validation, 'PredictedTrain':pred_val})\r\n",
        "#df.head(20)\r\n",
        "plot_learning_curves(X_train, y_train, X_validation, y_validation, lnr)"
      ],
      "execution_count": null,
      "outputs": [
        {
          "output_type": "stream",
          "text": [
            "              precision    recall  f1-score   support\n",
            "\n",
            "           0       0.00      0.00      0.00     30319\n",
            "           1       0.83      1.00      0.91    145536\n",
            "\n",
            "    accuracy                           0.83    175855\n",
            "   macro avg       0.41      0.50      0.45    175855\n",
            "weighted avg       0.68      0.83      0.75    175855\n",
            "\n"
          ],
          "name": "stdout"
        },
        {
          "output_type": "execute_result",
          "data": {
            "text/plain": [
              "([0.17323064924936635,\n",
              "  0.17360628769877537,\n",
              "  0.1744559168785592,\n",
              "  0.173575824041918,\n",
              "  0.1738373878330888,\n",
              "  0.1735412985641463,\n",
              "  0.17361817093041068,\n",
              "  0.17382257966246267,\n",
              "  0.1741625213583794,\n",
              "  0.1740372289350419],\n",
              " [0.17240908703192973,\n",
              "  0.17240908703192973,\n",
              "  0.17240908703192973,\n",
              "  0.17240908703192973,\n",
              "  0.17240908703192973,\n",
              "  0.17240908703192973,\n",
              "  0.17240908703192973,\n",
              "  0.17240908703192973,\n",
              "  0.17240908703192973,\n",
              "  0.17240908703192973])"
            ]
          },
          "metadata": {
            "tags": []
          },
          "execution_count": 230
        },
        {
          "output_type": "display_data",
          "data": {
            "image/png": "[encoded data removed]",
            "text/plain": [
              "<Figure size 432x288 with 1 Axes>"
            ]
          },
          "metadata": {
            "tags": []
          }
        }
      ]
    },
    {
      "cell_type": "code",
      "metadata": {
        "id": "Du4ct5lhg7qk",
        "colab": {
          "base_uri": "https://localhost:8080/",
          "height": 733
        },
        "outputId": "3e2a5587-ca1f-4366-b883-9781f7ee6069"
      },
      "source": [
        "xgb_model=XGBClassifier(learning_rate=0.3,max_depth=16,n_estimators=50)\n",
        "xgb_model.fit(X_train,y_train)\n",
        "pred_train = xgb_model.predict(X_train)\n",
        "pred_val = xgb_model.predict(X_validation)\n",
        "acc=accuracy_score(y_validation,pred_val)\n",
        "print(classification_report(y_validation,pred_val))\n",
        "print(acc)\n",
        "plot_learning_curves(X_train, y_train, X_validation, y_validation, xgb_model,scoring='recall')\n"
      ],
      "execution_count": null,
      "outputs": [
        {
          "output_type": "stream",
          "text": [
            "              precision    recall  f1-score   support\n",
            "\n",
            "           0       1.00      1.00      1.00     30319\n",
            "           1       1.00      1.00      1.00    145536\n",
            "\n",
            "    accuracy                           1.00    175855\n",
            "   macro avg       1.00      1.00      1.00    175855\n",
            "weighted avg       1.00      1.00      1.00    175855\n",
            "\n",
            "1.0\n"
          ],
          "name": "stdout"
        },
        {
          "output_type": "execute_result",
          "data": {
            "text/plain": [
              "([1.0, 1.0, 1.0, 1.0, 1.0, 1.0, 1.0, 1.0, 1.0, 1.0],\n",
              " [1.0, 1.0, 1.0, 1.0, 1.0, 1.0, 1.0, 1.0, 1.0, 1.0])"
            ]
          },
          "metadata": {
            "tags": []
          },
          "execution_count": 231
        },
        {
          "output_type": "display_data",
          "data": {
            "image/png": "[encoded data removed]",
            "text/plain": [
              "<Figure size 432x288 with 1 Axes>"
            ]
          },
          "metadata": {
            "tags": []
          }
        }
      ]
    },
    {
      "cell_type": "code",
      "metadata": {
        "id": "ZMd4jdxzg7oE"
      },
      "source": [
        "xbg_model=XGBClassifier()\n",
        "param_grid = {\"max_depth\" : [12,14,16,18,20],\n",
        "              \"learning_rate\":[0.001,0.01,0.1,0.2,0.3],\n",
        "              'colsample_bytree': np.linspace(0.5, 0.9, 5),\n",
        "              'n_estimators':[100, 200],\n",
        "             }\n",
        "\n",
        "xgb_cv_grid = GridSearchCV(estimator = xbg_model, param_grid = param_grid,cv=3,scoring = make_scorer(lambda yt,yp: recall_score(yt,yp,pos_label = 1)))\n",
        "xgb_cv_grid.fit(X_train,y_train)"
      ],
      "execution_count": null,
      "outputs": []
    },
    {
      "cell_type": "code",
      "metadata": {
        "id": "azSHwh_vg7k1"
      },
      "source": [
        "print(xgb_cv_grid.best_params_)"
      ],
      "execution_count": null,
      "outputs": []
    },
    {
      "cell_type": "code",
      "metadata": {
        "id": "hMpuh3Hrg7hZ"
      },
      "source": [
        "xgb_model=XGBClassifier(learning_rate=0.05,max_depth=3,n_estimators=200,colsample_bytree=0.5)\n",
        "xgb_model.fit(X_train,y_train)\n",
        "pred_train = xgb_model.predict(X_train)\n",
        "pred_val = xgb_model.predict(X_validation)\n",
        "acc=accuracy_score(y_validation,pred_val)\n",
        "print(classification_report(y_validation,pred_val))\n",
        "print(acc)\n",
        "plot_learning_curves(X_train, y_train, X_validation, y_validation, xgb_model,scoring='f1')"
      ],
      "execution_count": null,
      "outputs": []
    }
  ]
}